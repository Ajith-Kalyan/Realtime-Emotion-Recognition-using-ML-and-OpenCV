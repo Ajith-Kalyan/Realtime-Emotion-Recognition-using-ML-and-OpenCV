{
 "cells": [
  {
   "cell_type": "code",
   "execution_count": 1,
   "metadata": {
    "collapsed": true
   },
   "outputs": [],
   "source": [
    "#importing required packages\n",
    "import tensorflow\n",
    "import pandas as pd\n",
    "import cv2\n",
    "from keras.models import Sequential\n",
    "from keras.layers import Conv2D, MaxPooling2D, Dense, Dropout, Flatten\n",
    "from keras.optimizers import Adam\n",
    "from keras.preprocessing.image import ImageDataGenerator\n",
    "import tensorflow_addons as tfa\n",
    "tqdm_callback = tfa.callbacks.TQDMProgressBar()"
   ]
  },
  {
   "cell_type": "code",
   "execution_count": 31,
   "outputs": [],
   "source": [
    "# Rescale the input image using ImageDataGenerator\n",
    "\n",
    "train_data_gen = ImageDataGenerator(rescale=1./255)\n",
    "validation_data_gen = ImageDataGenerator(rescale=1./255)"
   ],
   "metadata": {
    "collapsed": false,
    "pycharm": {
     "name": "#%%\n"
    }
   }
  },
  {
   "cell_type": "code",
   "execution_count": 32,
   "outputs": [
    {
     "name": "stdout",
     "output_type": "stream",
     "text": [
      "Found 28709 images belonging to 7 classes.\n",
      "Found 7178 images belonging to 7 classes.\n"
     ]
    }
   ],
   "source": [
    "# preprocess all training images\n",
    "\n",
    "train_generator = train_data_gen.flow_from_directory(\n",
    "    'data/train',\n",
    "    target_size=(48,48),\n",
    "    batch_size=64,\n",
    "    color_mode=\"grayscale\",\n",
    "    class_mode='categorical'\n",
    ")\n",
    "\n",
    "#preprocessing test images\n",
    "validation_generator = validation_data_gen.flow_from_directory(\n",
    "    'data/test',\n",
    "    target_size=(48,48),\n",
    "    batch_size=64,\n",
    "    color_mode='grayscale',\n",
    "    class_mode='categorical'\n",
    ")"
   ],
   "metadata": {
    "collapsed": false,
    "pycharm": {
     "name": "#%%\n"
    }
   }
  },
  {
   "cell_type": "code",
   "execution_count": 33,
   "outputs": [],
   "source": [
    "#model creation\n",
    "\n",
    "model1 = Sequential()\n",
    "\n",
    "model1.add(Conv2D(32, (3,3), activation= 'relu', input_shape=(48,48,1)))\n",
    "model1.add(Conv2D(64, (3,3), activation='relu'))\n",
    "model1.add(MaxPooling2D((2,2)))\n",
    "model1.add(Dropout(0.25))\n",
    "\n",
    "model1.add(Conv2D(128, (3,3), activation='relu'))\n",
    "model1.add(MaxPooling2D(2,2))\n",
    "model1.add(Conv2D(128, (3,3), activation='relu'))\n",
    "model1.add(MaxPooling2D(2,2))\n",
    "model1.add(Dropout(0.25))\n",
    "\n",
    "model1.add(Flatten())\n",
    "model1.add(Dense(1024, activation='relu'))\n",
    "model1.add(Dropout(0.5))\n",
    "model1.add(Dense(7, activation='softmax'))"
   ],
   "metadata": {
    "collapsed": false,
    "pycharm": {
     "name": "#%%\n"
    }
   }
  },
  {
   "cell_type": "code",
   "execution_count": 34,
   "outputs": [
    {
     "name": "stdout",
     "output_type": "stream",
     "text": [
      "Model: \"sequential_3\"\n",
      "_________________________________________________________________\n",
      " Layer (type)                Output Shape              Param #   \n",
      "=================================================================\n",
      " conv2d_8 (Conv2D)           (None, 46, 46, 32)        320       \n",
      "                                                                 \n",
      " conv2d_9 (Conv2D)           (None, 44, 44, 64)        18496     \n",
      "                                                                 \n",
      " max_pooling2d_9 (MaxPooling  (None, 22, 22, 64)       0         \n",
      " 2D)                                                             \n",
      "                                                                 \n",
      " dropout_6 (Dropout)         (None, 22, 22, 64)        0         \n",
      "                                                                 \n",
      " conv2d_10 (Conv2D)          (None, 20, 20, 128)       73856     \n",
      "                                                                 \n",
      " max_pooling2d_10 (MaxPoolin  (None, 10, 10, 128)      0         \n",
      " g2D)                                                            \n",
      "                                                                 \n",
      " conv2d_11 (Conv2D)          (None, 8, 8, 128)         147584    \n",
      "                                                                 \n",
      " max_pooling2d_11 (MaxPoolin  (None, 4, 4, 128)        0         \n",
      " g2D)                                                            \n",
      "                                                                 \n",
      " dropout_7 (Dropout)         (None, 4, 4, 128)         0         \n",
      "                                                                 \n",
      " flatten_3 (Flatten)         (None, 2048)              0         \n",
      "                                                                 \n",
      " dense_8 (Dense)             (None, 1024)              2098176   \n",
      "                                                                 \n",
      " dropout_8 (Dropout)         (None, 1024)              0         \n",
      "                                                                 \n",
      " dense_9 (Dense)             (None, 7)                 7175      \n",
      "                                                                 \n",
      "=================================================================\n",
      "Total params: 2,345,607\n",
      "Trainable params: 2,345,607\n",
      "Non-trainable params: 0\n",
      "_________________________________________________________________\n"
     ]
    }
   ],
   "source": [
    "model1.summary()"
   ],
   "metadata": {
    "collapsed": false,
    "pycharm": {
     "name": "#%%\n"
    }
   }
  },
  {
   "cell_type": "code",
   "execution_count": 35,
   "outputs": [
    {
     "name": "stderr",
     "output_type": "stream",
     "text": [
      "J:\\C\\Anaconda\\envs\\portfolio\\lib\\site-packages\\keras\\optimizers\\optimizer_v2\\adam.py:114: UserWarning: The `lr` argument is deprecated, use `learning_rate` instead.\n",
      "  super().__init__(name, **kwargs)\n"
     ]
    }
   ],
   "source": [
    "cv2.ocl.setUseOpenCL(False)\n",
    "model1.compile(\n",
    "    loss = 'categorical_crossentropy',\n",
    "    optimizer=Adam(lr =0.0001, decay = 1e-4),\n",
    "    metrics= ['accuracy']\n",
    ")"
   ],
   "metadata": {
    "collapsed": false,
    "pycharm": {
     "name": "#%%\n"
    }
   }
  },
  {
   "cell_type": "code",
   "execution_count": 36,
   "outputs": [],
   "source": [
    "early_stopping_callbacks = tensorflow.keras.callbacks.EarlyStopping(patience=15, restore_best_weights=True, verbose=1)"
   ],
   "metadata": {
    "collapsed": false,
    "pycharm": {
     "name": "#%%\n"
    }
   }
  },
  {
   "cell_type": "code",
   "execution_count": 37,
   "outputs": [
    {
     "data": {
      "text/plain": "Training:   0%|           0/100 ETA: ?s,  ?epochs/s",
      "application/vnd.jupyter.widget-view+json": {
       "version_major": 2,
       "version_minor": 0,
       "model_id": "e4a2b30e20b141cf8bea6085a98ce00b"
      }
     },
     "metadata": {},
     "output_type": "display_data"
    },
    {
     "name": "stdout",
     "output_type": "stream",
     "text": [
      "Epoch 1/100\n"
     ]
    },
    {
     "data": {
      "text/plain": "0/448           ETA: ?s - ",
      "application/vnd.jupyter.widget-view+json": {
       "version_major": 2,
       "version_minor": 0,
       "model_id": "46b2bdea3817487a96c3b0ef961a373f"
      }
     },
     "metadata": {},
     "output_type": "display_data"
    },
    {
     "name": "stdout",
     "output_type": "stream",
     "text": [
      "Epoch 1/100\n",
      "448/448 [==============================] - 125s 275ms/step - loss: 1.8154 - accuracy: 0.2517 - val_loss: 1.7947 - val_accuracy: 0.2879\n",
      "Epoch 2/100\n"
     ]
    },
    {
     "data": {
      "text/plain": "0/448           ETA: ?s - ",
      "application/vnd.jupyter.widget-view+json": {
       "version_major": 2,
       "version_minor": 0,
       "model_id": "7c9d589a2a404ecb84929204a86a6665"
      }
     },
     "metadata": {},
     "output_type": "display_data"
    },
    {
     "name": "stdout",
     "output_type": "stream",
     "text": [
      "Epoch 2/100\n",
      "448/448 [==============================] - 10s 22ms/step - loss: 1.6717 - accuracy: 0.3424 - val_loss: 1.5736 - val_accuracy: 0.4039\n",
      "Epoch 3/100\n"
     ]
    },
    {
     "data": {
      "text/plain": "0/448           ETA: ?s - ",
      "application/vnd.jupyter.widget-view+json": {
       "version_major": 2,
       "version_minor": 0,
       "model_id": "ef5dfc7c2ee64c14ab330fcbec20086c"
      }
     },
     "metadata": {},
     "output_type": "display_data"
    },
    {
     "name": "stdout",
     "output_type": "stream",
     "text": [
      "Epoch 3/100\n",
      "448/448 [==============================] - 10s 21ms/step - loss: 1.5485 - accuracy: 0.4009 - val_loss: 1.4801 - val_accuracy: 0.4361\n",
      "Epoch 4/100\n"
     ]
    },
    {
     "data": {
      "text/plain": "0/448           ETA: ?s - ",
      "application/vnd.jupyter.widget-view+json": {
       "version_major": 2,
       "version_minor": 0,
       "model_id": "3c4bc0aa9eee4c879f4437da175bc86f"
      }
     },
     "metadata": {},
     "output_type": "display_data"
    },
    {
     "name": "stdout",
     "output_type": "stream",
     "text": [
      "Epoch 4/100\n",
      "448/448 [==============================] - 10s 21ms/step - loss: 1.4795 - accuracy: 0.4326 - val_loss: 1.4176 - val_accuracy: 0.4574\n",
      "Epoch 5/100\n"
     ]
    },
    {
     "data": {
      "text/plain": "0/448           ETA: ?s - ",
      "application/vnd.jupyter.widget-view+json": {
       "version_major": 2,
       "version_minor": 0,
       "model_id": "777d10f2ced44177bbe06f84e2b537f0"
      }
     },
     "metadata": {},
     "output_type": "display_data"
    },
    {
     "name": "stdout",
     "output_type": "stream",
     "text": [
      "Epoch 5/100\n",
      "448/448 [==============================] - 10s 21ms/step - loss: 1.4206 - accuracy: 0.4558 - val_loss: 1.3672 - val_accuracy: 0.4845\n",
      "Epoch 6/100\n"
     ]
    },
    {
     "data": {
      "text/plain": "0/448           ETA: ?s - ",
      "application/vnd.jupyter.widget-view+json": {
       "version_major": 2,
       "version_minor": 0,
       "model_id": "e9081a9065f34c679b9dd59537146632"
      }
     },
     "metadata": {},
     "output_type": "display_data"
    },
    {
     "name": "stdout",
     "output_type": "stream",
     "text": [
      "Epoch 6/100\n",
      "448/448 [==============================] - 10s 21ms/step - loss: 1.3732 - accuracy: 0.4767 - val_loss: 1.3470 - val_accuracy: 0.4911\n",
      "Epoch 7/100\n"
     ]
    },
    {
     "data": {
      "text/plain": "0/448           ETA: ?s - ",
      "application/vnd.jupyter.widget-view+json": {
       "version_major": 2,
       "version_minor": 0,
       "model_id": "2ddef4ba7a644d92bef789e7e8e574a3"
      }
     },
     "metadata": {},
     "output_type": "display_data"
    },
    {
     "name": "stdout",
     "output_type": "stream",
     "text": [
      "Epoch 7/100\n",
      "448/448 [==============================] - 10s 21ms/step - loss: 1.3329 - accuracy: 0.4952 - val_loss: 1.2981 - val_accuracy: 0.5093\n",
      "Epoch 8/100\n"
     ]
    },
    {
     "data": {
      "text/plain": "0/448           ETA: ?s - ",
      "application/vnd.jupyter.widget-view+json": {
       "version_major": 2,
       "version_minor": 0,
       "model_id": "832ad602a13c46ba9db3bc2321837652"
      }
     },
     "metadata": {},
     "output_type": "display_data"
    },
    {
     "name": "stdout",
     "output_type": "stream",
     "text": [
      "Epoch 8/100\n",
      "448/448 [==============================] - 9s 21ms/step - loss: 1.2943 - accuracy: 0.5104 - val_loss: 1.2714 - val_accuracy: 0.5184\n",
      "Epoch 9/100\n"
     ]
    },
    {
     "data": {
      "text/plain": "0/448           ETA: ?s - ",
      "application/vnd.jupyter.widget-view+json": {
       "version_major": 2,
       "version_minor": 0,
       "model_id": "7f749914a8854c61b21fbb84a07c9acf"
      }
     },
     "metadata": {},
     "output_type": "display_data"
    },
    {
     "name": "stdout",
     "output_type": "stream",
     "text": [
      "Epoch 9/100\n",
      "448/448 [==============================] - 10s 22ms/step - loss: 1.2693 - accuracy: 0.5211 - val_loss: 1.2584 - val_accuracy: 0.5198\n",
      "Epoch 10/100\n"
     ]
    },
    {
     "data": {
      "text/plain": "0/448           ETA: ?s - ",
      "application/vnd.jupyter.widget-view+json": {
       "version_major": 2,
       "version_minor": 0,
       "model_id": "8d106cd6212b4421934f7a205d861b8f"
      }
     },
     "metadata": {},
     "output_type": "display_data"
    },
    {
     "name": "stdout",
     "output_type": "stream",
     "text": [
      "Epoch 10/100\n",
      "448/448 [==============================] - 10s 21ms/step - loss: 1.2414 - accuracy: 0.5321 - val_loss: 1.2273 - val_accuracy: 0.5347\n",
      "Epoch 11/100\n"
     ]
    },
    {
     "data": {
      "text/plain": "0/448           ETA: ?s - ",
      "application/vnd.jupyter.widget-view+json": {
       "version_major": 2,
       "version_minor": 0,
       "model_id": "387265e16dc149fb8da66d2b73c6a2a8"
      }
     },
     "metadata": {},
     "output_type": "display_data"
    },
    {
     "name": "stdout",
     "output_type": "stream",
     "text": [
      "Epoch 11/100\n",
      "448/448 [==============================] - 10s 22ms/step - loss: 1.2143 - accuracy: 0.5459 - val_loss: 1.2100 - val_accuracy: 0.5428\n",
      "Epoch 12/100\n"
     ]
    },
    {
     "data": {
      "text/plain": "0/448           ETA: ?s - ",
      "application/vnd.jupyter.widget-view+json": {
       "version_major": 2,
       "version_minor": 0,
       "model_id": "02a53ee1bc274609985b92c453b06e77"
      }
     },
     "metadata": {},
     "output_type": "display_data"
    },
    {
     "name": "stdout",
     "output_type": "stream",
     "text": [
      "Epoch 12/100\n",
      "448/448 [==============================] - 10s 22ms/step - loss: 1.1938 - accuracy: 0.5506 - val_loss: 1.2055 - val_accuracy: 0.5453\n",
      "Epoch 13/100\n"
     ]
    },
    {
     "data": {
      "text/plain": "0/448           ETA: ?s - ",
      "application/vnd.jupyter.widget-view+json": {
       "version_major": 2,
       "version_minor": 0,
       "model_id": "277bdfa4671043b4b39b1d78f66aac7d"
      }
     },
     "metadata": {},
     "output_type": "display_data"
    },
    {
     "name": "stdout",
     "output_type": "stream",
     "text": [
      "Epoch 13/100\n",
      "448/448 [==============================] - 10s 22ms/step - loss: 1.1671 - accuracy: 0.5629 - val_loss: 1.1861 - val_accuracy: 0.5566\n",
      "Epoch 14/100\n"
     ]
    },
    {
     "data": {
      "text/plain": "0/448           ETA: ?s - ",
      "application/vnd.jupyter.widget-view+json": {
       "version_major": 2,
       "version_minor": 0,
       "model_id": "5142ceacf83a43b3afb27ec26a200ac1"
      }
     },
     "metadata": {},
     "output_type": "display_data"
    },
    {
     "name": "stdout",
     "output_type": "stream",
     "text": [
      "Epoch 14/100\n",
      "448/448 [==============================] - 10s 22ms/step - loss: 1.1552 - accuracy: 0.5685 - val_loss: 1.1692 - val_accuracy: 0.5601\n",
      "Epoch 15/100\n"
     ]
    },
    {
     "data": {
      "text/plain": "0/448           ETA: ?s - ",
      "application/vnd.jupyter.widget-view+json": {
       "version_major": 2,
       "version_minor": 0,
       "model_id": "36236b22779f4ed29a9027d8bf5db2f1"
      }
     },
     "metadata": {},
     "output_type": "display_data"
    },
    {
     "name": "stdout",
     "output_type": "stream",
     "text": [
      "Epoch 15/100\n",
      "448/448 [==============================] - 10s 22ms/step - loss: 1.1348 - accuracy: 0.5776 - val_loss: 1.1650 - val_accuracy: 0.5610\n",
      "Epoch 16/100\n"
     ]
    },
    {
     "data": {
      "text/plain": "0/448           ETA: ?s - ",
      "application/vnd.jupyter.widget-view+json": {
       "version_major": 2,
       "version_minor": 0,
       "model_id": "4e8935a172b14d658c6c73b97ce396c5"
      }
     },
     "metadata": {},
     "output_type": "display_data"
    },
    {
     "name": "stdout",
     "output_type": "stream",
     "text": [
      "Epoch 16/100\n",
      "448/448 [==============================] - 9s 21ms/step - loss: 1.1198 - accuracy: 0.5804 - val_loss: 1.1483 - val_accuracy: 0.5684\n",
      "Epoch 17/100\n"
     ]
    },
    {
     "data": {
      "text/plain": "0/448           ETA: ?s - ",
      "application/vnd.jupyter.widget-view+json": {
       "version_major": 2,
       "version_minor": 0,
       "model_id": "6335cd8a6c034480a8d5e5d43880b959"
      }
     },
     "metadata": {},
     "output_type": "display_data"
    },
    {
     "name": "stdout",
     "output_type": "stream",
     "text": [
      "Epoch 17/100\n",
      "448/448 [==============================] - 10s 22ms/step - loss: 1.1040 - accuracy: 0.5867 - val_loss: 1.1394 - val_accuracy: 0.5741\n",
      "Epoch 18/100\n"
     ]
    },
    {
     "data": {
      "text/plain": "0/448           ETA: ?s - ",
      "application/vnd.jupyter.widget-view+json": {
       "version_major": 2,
       "version_minor": 0,
       "model_id": "3139afbbea164a6db381a9417a3572c3"
      }
     },
     "metadata": {},
     "output_type": "display_data"
    },
    {
     "name": "stdout",
     "output_type": "stream",
     "text": [
      "Epoch 18/100\n",
      "448/448 [==============================] - 9s 20ms/step - loss: 1.0890 - accuracy: 0.5954 - val_loss: 1.1340 - val_accuracy: 0.5792\n",
      "Epoch 19/100\n"
     ]
    },
    {
     "data": {
      "text/plain": "0/448           ETA: ?s - ",
      "application/vnd.jupyter.widget-view+json": {
       "version_major": 2,
       "version_minor": 0,
       "model_id": "d8b17b9cbfe347bbb714d0555321ece3"
      }
     },
     "metadata": {},
     "output_type": "display_data"
    },
    {
     "name": "stdout",
     "output_type": "stream",
     "text": [
      "Epoch 19/100\n",
      "448/448 [==============================] - 9s 20ms/step - loss: 1.0763 - accuracy: 0.6000 - val_loss: 1.1249 - val_accuracy: 0.5787\n",
      "Epoch 20/100\n"
     ]
    },
    {
     "data": {
      "text/plain": "0/448           ETA: ?s - ",
      "application/vnd.jupyter.widget-view+json": {
       "version_major": 2,
       "version_minor": 0,
       "model_id": "6b4d6d47a8064191a5a68b41dcf01caf"
      }
     },
     "metadata": {},
     "output_type": "display_data"
    },
    {
     "name": "stdout",
     "output_type": "stream",
     "text": [
      "Epoch 20/100\n",
      "448/448 [==============================] - 9s 20ms/step - loss: 1.0623 - accuracy: 0.6048 - val_loss: 1.1233 - val_accuracy: 0.5787\n",
      "Epoch 21/100\n"
     ]
    },
    {
     "data": {
      "text/plain": "0/448           ETA: ?s - ",
      "application/vnd.jupyter.widget-view+json": {
       "version_major": 2,
       "version_minor": 0,
       "model_id": "6d627cb0c1744ca9a87c185871a23ede"
      }
     },
     "metadata": {},
     "output_type": "display_data"
    },
    {
     "name": "stdout",
     "output_type": "stream",
     "text": [
      "Epoch 21/100\n",
      "448/448 [==============================] - 9s 20ms/step - loss: 1.0506 - accuracy: 0.6076 - val_loss: 1.1223 - val_accuracy: 0.5785\n",
      "Epoch 22/100\n"
     ]
    },
    {
     "data": {
      "text/plain": "0/448           ETA: ?s - ",
      "application/vnd.jupyter.widget-view+json": {
       "version_major": 2,
       "version_minor": 0,
       "model_id": "1be627c4c8c34d80a1c2909eabef3d8c"
      }
     },
     "metadata": {},
     "output_type": "display_data"
    },
    {
     "name": "stdout",
     "output_type": "stream",
     "text": [
      "Epoch 22/100\n",
      "448/448 [==============================] - 9s 20ms/step - loss: 1.0360 - accuracy: 0.6166 - val_loss: 1.1119 - val_accuracy: 0.5843\n",
      "Epoch 23/100\n"
     ]
    },
    {
     "data": {
      "text/plain": "0/448           ETA: ?s - ",
      "application/vnd.jupyter.widget-view+json": {
       "version_major": 2,
       "version_minor": 0,
       "model_id": "01d30ed7a8154591ab62195d6b604558"
      }
     },
     "metadata": {},
     "output_type": "display_data"
    },
    {
     "name": "stdout",
     "output_type": "stream",
     "text": [
      "Epoch 23/100\n",
      "448/448 [==============================] - 9s 20ms/step - loss: 1.0223 - accuracy: 0.6230 - val_loss: 1.1083 - val_accuracy: 0.5848\n",
      "Epoch 24/100\n"
     ]
    },
    {
     "data": {
      "text/plain": "0/448           ETA: ?s - ",
      "application/vnd.jupyter.widget-view+json": {
       "version_major": 2,
       "version_minor": 0,
       "model_id": "5b3f8c860b3140b9a87d304a7ae5eba0"
      }
     },
     "metadata": {},
     "output_type": "display_data"
    },
    {
     "name": "stdout",
     "output_type": "stream",
     "text": [
      "Epoch 24/100\n",
      "448/448 [==============================] - 9s 20ms/step - loss: 1.0074 - accuracy: 0.6278 - val_loss: 1.1000 - val_accuracy: 0.5928\n",
      "Epoch 25/100\n"
     ]
    },
    {
     "data": {
      "text/plain": "0/448           ETA: ?s - ",
      "application/vnd.jupyter.widget-view+json": {
       "version_major": 2,
       "version_minor": 0,
       "model_id": "66e5825b37684ac5b7d3df249976bc02"
      }
     },
     "metadata": {},
     "output_type": "display_data"
    },
    {
     "name": "stdout",
     "output_type": "stream",
     "text": [
      "Epoch 25/100\n",
      "448/448 [==============================] - 9s 20ms/step - loss: 1.0015 - accuracy: 0.6304 - val_loss: 1.0990 - val_accuracy: 0.5904\n",
      "Epoch 26/100\n"
     ]
    },
    {
     "data": {
      "text/plain": "0/448           ETA: ?s - ",
      "application/vnd.jupyter.widget-view+json": {
       "version_major": 2,
       "version_minor": 0,
       "model_id": "a86791680e634e5a8b9137090212beaa"
      }
     },
     "metadata": {},
     "output_type": "display_data"
    },
    {
     "name": "stdout",
     "output_type": "stream",
     "text": [
      "Epoch 26/100\n",
      "448/448 [==============================] - 9s 20ms/step - loss: 0.9884 - accuracy: 0.6338 - val_loss: 1.0928 - val_accuracy: 0.5956\n",
      "Epoch 27/100\n"
     ]
    },
    {
     "data": {
      "text/plain": "0/448           ETA: ?s - ",
      "application/vnd.jupyter.widget-view+json": {
       "version_major": 2,
       "version_minor": 0,
       "model_id": "f0823681d9494b7dba75c08c29ff9bc2"
      }
     },
     "metadata": {},
     "output_type": "display_data"
    },
    {
     "name": "stdout",
     "output_type": "stream",
     "text": [
      "Epoch 27/100\n",
      "448/448 [==============================] - 9s 20ms/step - loss: 0.9771 - accuracy: 0.6362 - val_loss: 1.0925 - val_accuracy: 0.5940\n",
      "Epoch 28/100\n"
     ]
    },
    {
     "data": {
      "text/plain": "0/448           ETA: ?s - ",
      "application/vnd.jupyter.widget-view+json": {
       "version_major": 2,
       "version_minor": 0,
       "model_id": "cb7d8f3a87f94a8da8dafb229ace3914"
      }
     },
     "metadata": {},
     "output_type": "display_data"
    },
    {
     "name": "stdout",
     "output_type": "stream",
     "text": [
      "Epoch 28/100\n",
      "448/448 [==============================] - 9s 20ms/step - loss: 0.9695 - accuracy: 0.6413 - val_loss: 1.0920 - val_accuracy: 0.5960\n",
      "Epoch 29/100\n"
     ]
    },
    {
     "data": {
      "text/plain": "0/448           ETA: ?s - ",
      "application/vnd.jupyter.widget-view+json": {
       "version_major": 2,
       "version_minor": 0,
       "model_id": "309a605359054a7987bf55f86a41eced"
      }
     },
     "metadata": {},
     "output_type": "display_data"
    },
    {
     "name": "stdout",
     "output_type": "stream",
     "text": [
      "Epoch 29/100\n",
      "448/448 [==============================] - 10s 22ms/step - loss: 0.9528 - accuracy: 0.6473 - val_loss: 1.0825 - val_accuracy: 0.6010\n",
      "Epoch 30/100\n"
     ]
    },
    {
     "data": {
      "text/plain": "0/448           ETA: ?s - ",
      "application/vnd.jupyter.widget-view+json": {
       "version_major": 2,
       "version_minor": 0,
       "model_id": "6b7d81cf807242738e422599b91cb779"
      }
     },
     "metadata": {},
     "output_type": "display_data"
    },
    {
     "name": "stdout",
     "output_type": "stream",
     "text": [
      "Epoch 30/100\n",
      "448/448 [==============================] - 10s 23ms/step - loss: 0.9472 - accuracy: 0.6506 - val_loss: 1.0827 - val_accuracy: 0.5995\n",
      "Epoch 31/100\n"
     ]
    },
    {
     "data": {
      "text/plain": "0/448           ETA: ?s - ",
      "application/vnd.jupyter.widget-view+json": {
       "version_major": 2,
       "version_minor": 0,
       "model_id": "b4f451f82df040afb3580493da116b72"
      }
     },
     "metadata": {},
     "output_type": "display_data"
    },
    {
     "name": "stdout",
     "output_type": "stream",
     "text": [
      "Epoch 31/100\n",
      "448/448 [==============================] - 11s 24ms/step - loss: 0.9351 - accuracy: 0.6529 - val_loss: 1.0906 - val_accuracy: 0.5965\n",
      "Epoch 32/100\n"
     ]
    },
    {
     "data": {
      "text/plain": "0/448           ETA: ?s - ",
      "application/vnd.jupyter.widget-view+json": {
       "version_major": 2,
       "version_minor": 0,
       "model_id": "dd1b17d31b37435098f3ab3e01de24f4"
      }
     },
     "metadata": {},
     "output_type": "display_data"
    },
    {
     "name": "stdout",
     "output_type": "stream",
     "text": [
      "Epoch 32/100\n",
      "448/448 [==============================] - 11s 25ms/step - loss: 0.9242 - accuracy: 0.6593 - val_loss: 1.0811 - val_accuracy: 0.5958\n",
      "Epoch 33/100\n"
     ]
    },
    {
     "data": {
      "text/plain": "0/448           ETA: ?s - ",
      "application/vnd.jupyter.widget-view+json": {
       "version_major": 2,
       "version_minor": 0,
       "model_id": "579456415b8542a3b6f6ff02b561f38c"
      }
     },
     "metadata": {},
     "output_type": "display_data"
    },
    {
     "name": "stdout",
     "output_type": "stream",
     "text": [
      "Epoch 33/100\n",
      "448/448 [==============================] - 12s 27ms/step - loss: 0.9108 - accuracy: 0.6633 - val_loss: 1.0805 - val_accuracy: 0.5988\n",
      "Epoch 34/100\n"
     ]
    },
    {
     "data": {
      "text/plain": "0/448           ETA: ?s - ",
      "application/vnd.jupyter.widget-view+json": {
       "version_major": 2,
       "version_minor": 0,
       "model_id": "11da5fbebf9f492ab25491efec07907a"
      }
     },
     "metadata": {},
     "output_type": "display_data"
    },
    {
     "name": "stdout",
     "output_type": "stream",
     "text": [
      "Epoch 34/100\n",
      "448/448 [==============================] - 11s 25ms/step - loss: 0.9064 - accuracy: 0.6664 - val_loss: 1.0714 - val_accuracy: 0.6087\n",
      "Epoch 35/100\n"
     ]
    },
    {
     "data": {
      "text/plain": "0/448           ETA: ?s - ",
      "application/vnd.jupyter.widget-view+json": {
       "version_major": 2,
       "version_minor": 0,
       "model_id": "071a6c3fdd724faca60daba749b8e567"
      }
     },
     "metadata": {},
     "output_type": "display_data"
    },
    {
     "name": "stdout",
     "output_type": "stream",
     "text": [
      "Epoch 35/100\n",
      "448/448 [==============================] - 11s 25ms/step - loss: 0.8932 - accuracy: 0.6751 - val_loss: 1.0693 - val_accuracy: 0.6076\n",
      "Epoch 36/100\n"
     ]
    },
    {
     "data": {
      "text/plain": "0/448           ETA: ?s - ",
      "application/vnd.jupyter.widget-view+json": {
       "version_major": 2,
       "version_minor": 0,
       "model_id": "34c8f0723f35484183c5fee73583b7fb"
      }
     },
     "metadata": {},
     "output_type": "display_data"
    },
    {
     "name": "stdout",
     "output_type": "stream",
     "text": [
      "Epoch 36/100\n",
      "448/448 [==============================] - 11s 26ms/step - loss: 0.8912 - accuracy: 0.6704 - val_loss: 1.0773 - val_accuracy: 0.6048\n",
      "Epoch 37/100\n"
     ]
    },
    {
     "data": {
      "text/plain": "0/448           ETA: ?s - ",
      "application/vnd.jupyter.widget-view+json": {
       "version_major": 2,
       "version_minor": 0,
       "model_id": "a2658930b31240cf882b6caad2d110ad"
      }
     },
     "metadata": {},
     "output_type": "display_data"
    },
    {
     "name": "stdout",
     "output_type": "stream",
     "text": [
      "Epoch 37/100\n",
      "448/448 [==============================] - 12s 26ms/step - loss: 0.8751 - accuracy: 0.6833 - val_loss: 1.0675 - val_accuracy: 0.6059\n",
      "Epoch 38/100\n"
     ]
    },
    {
     "data": {
      "text/plain": "0/448           ETA: ?s - ",
      "application/vnd.jupyter.widget-view+json": {
       "version_major": 2,
       "version_minor": 0,
       "model_id": "d0c56d94e7e540a78b63598c103fcdd1"
      }
     },
     "metadata": {},
     "output_type": "display_data"
    },
    {
     "name": "stdout",
     "output_type": "stream",
     "text": [
      "Epoch 38/100\n",
      "448/448 [==============================] - 11s 24ms/step - loss: 0.8676 - accuracy: 0.6804 - val_loss: 1.0698 - val_accuracy: 0.6117\n",
      "Epoch 39/100\n"
     ]
    },
    {
     "data": {
      "text/plain": "0/448           ETA: ?s - ",
      "application/vnd.jupyter.widget-view+json": {
       "version_major": 2,
       "version_minor": 0,
       "model_id": "671f502ede5e4f79ab82a1e03f7af225"
      }
     },
     "metadata": {},
     "output_type": "display_data"
    },
    {
     "name": "stdout",
     "output_type": "stream",
     "text": [
      "Epoch 39/100\n",
      "448/448 [==============================] - 11s 24ms/step - loss: 0.8590 - accuracy: 0.6836 - val_loss: 1.0648 - val_accuracy: 0.6110\n",
      "Epoch 40/100\n"
     ]
    },
    {
     "data": {
      "text/plain": "0/448           ETA: ?s - ",
      "application/vnd.jupyter.widget-view+json": {
       "version_major": 2,
       "version_minor": 0,
       "model_id": "a0765e1acbe447d18af2c171a87903a6"
      }
     },
     "metadata": {},
     "output_type": "display_data"
    },
    {
     "name": "stdout",
     "output_type": "stream",
     "text": [
      "Epoch 40/100\n",
      "448/448 [==============================] - 11s 24ms/step - loss: 0.8514 - accuracy: 0.6899 - val_loss: 1.0633 - val_accuracy: 0.6126\n",
      "Epoch 41/100\n"
     ]
    },
    {
     "data": {
      "text/plain": "0/448           ETA: ?s - ",
      "application/vnd.jupyter.widget-view+json": {
       "version_major": 2,
       "version_minor": 0,
       "model_id": "630c2714d41d4b439015cda55ea167f4"
      }
     },
     "metadata": {},
     "output_type": "display_data"
    },
    {
     "name": "stdout",
     "output_type": "stream",
     "text": [
      "Epoch 41/100\n",
      "448/448 [==============================] - 10s 23ms/step - loss: 0.8425 - accuracy: 0.6915 - val_loss: 1.0604 - val_accuracy: 0.6129\n",
      "Epoch 42/100\n"
     ]
    },
    {
     "data": {
      "text/plain": "0/448           ETA: ?s - ",
      "application/vnd.jupyter.widget-view+json": {
       "version_major": 2,
       "version_minor": 0,
       "model_id": "f98880bb8d6640bab60f8fc72bd30ab1"
      }
     },
     "metadata": {},
     "output_type": "display_data"
    },
    {
     "name": "stdout",
     "output_type": "stream",
     "text": [
      "Epoch 42/100\n",
      "448/448 [==============================] - 11s 24ms/step - loss: 0.8367 - accuracy: 0.6933 - val_loss: 1.0624 - val_accuracy: 0.6112\n",
      "Epoch 43/100\n"
     ]
    },
    {
     "data": {
      "text/plain": "0/448           ETA: ?s - ",
      "application/vnd.jupyter.widget-view+json": {
       "version_major": 2,
       "version_minor": 0,
       "model_id": "fcfd7389aff742a8abe66a72513ece69"
      }
     },
     "metadata": {},
     "output_type": "display_data"
    },
    {
     "name": "stdout",
     "output_type": "stream",
     "text": [
      "Epoch 43/100\n",
      "448/448 [==============================] - 11s 24ms/step - loss: 0.8188 - accuracy: 0.7018 - val_loss: 1.0613 - val_accuracy: 0.6150\n",
      "Epoch 44/100\n"
     ]
    },
    {
     "data": {
      "text/plain": "0/448           ETA: ?s - ",
      "application/vnd.jupyter.widget-view+json": {
       "version_major": 2,
       "version_minor": 0,
       "model_id": "678f222e228b4abd88d207b5c7caadfa"
      }
     },
     "metadata": {},
     "output_type": "display_data"
    },
    {
     "name": "stdout",
     "output_type": "stream",
     "text": [
      "Epoch 44/100\n",
      "448/448 [==============================] - 10s 23ms/step - loss: 0.8210 - accuracy: 0.6988 - val_loss: 1.0682 - val_accuracy: 0.6151\n",
      "Epoch 45/100\n"
     ]
    },
    {
     "data": {
      "text/plain": "0/448           ETA: ?s - ",
      "application/vnd.jupyter.widget-view+json": {
       "version_major": 2,
       "version_minor": 0,
       "model_id": "b07b44a1427e4e3cac7906f134ca6755"
      }
     },
     "metadata": {},
     "output_type": "display_data"
    },
    {
     "name": "stdout",
     "output_type": "stream",
     "text": [
      "Epoch 45/100\n",
      "448/448 [==============================] - 11s 23ms/step - loss: 0.8083 - accuracy: 0.7034 - val_loss: 1.0618 - val_accuracy: 0.6144\n",
      "Epoch 46/100\n"
     ]
    },
    {
     "data": {
      "text/plain": "0/448           ETA: ?s - ",
      "application/vnd.jupyter.widget-view+json": {
       "version_major": 2,
       "version_minor": 0,
       "model_id": "dec36d9b0db44fc5a6e81fdea83ab758"
      }
     },
     "metadata": {},
     "output_type": "display_data"
    },
    {
     "name": "stdout",
     "output_type": "stream",
     "text": [
      "Epoch 46/100\n",
      "448/448 [==============================] - 10s 23ms/step - loss: 0.7933 - accuracy: 0.7086 - val_loss: 1.0635 - val_accuracy: 0.6169\n",
      "Epoch 47/100\n"
     ]
    },
    {
     "data": {
      "text/plain": "0/448           ETA: ?s - ",
      "application/vnd.jupyter.widget-view+json": {
       "version_major": 2,
       "version_minor": 0,
       "model_id": "2ca7e59d62c2414080bcb9d03cc02b0b"
      }
     },
     "metadata": {},
     "output_type": "display_data"
    },
    {
     "name": "stdout",
     "output_type": "stream",
     "text": [
      "Epoch 47/100\n",
      "448/448 [==============================] - 10s 23ms/step - loss: 0.7926 - accuracy: 0.7099 - val_loss: 1.0611 - val_accuracy: 0.6159\n",
      "Epoch 48/100\n"
     ]
    },
    {
     "data": {
      "text/plain": "0/448           ETA: ?s - ",
      "application/vnd.jupyter.widget-view+json": {
       "version_major": 2,
       "version_minor": 0,
       "model_id": "7ed93d44e3bf432b93f410be1351b533"
      }
     },
     "metadata": {},
     "output_type": "display_data"
    },
    {
     "name": "stdout",
     "output_type": "stream",
     "text": [
      "Epoch 48/100\n",
      "448/448 [==============================] - 10s 23ms/step - loss: 0.7808 - accuracy: 0.7141 - val_loss: 1.0592 - val_accuracy: 0.6172\n",
      "Epoch 49/100\n"
     ]
    },
    {
     "data": {
      "text/plain": "0/448           ETA: ?s - ",
      "application/vnd.jupyter.widget-view+json": {
       "version_major": 2,
       "version_minor": 0,
       "model_id": "e323b1860c324daea45b5668688695c6"
      }
     },
     "metadata": {},
     "output_type": "display_data"
    },
    {
     "name": "stdout",
     "output_type": "stream",
     "text": [
      "Epoch 49/100\n",
      "448/448 [==============================] - 10s 23ms/step - loss: 0.7735 - accuracy: 0.7169 - val_loss: 1.0574 - val_accuracy: 0.6158\n",
      "Epoch 50/100\n"
     ]
    },
    {
     "data": {
      "text/plain": "0/448           ETA: ?s - ",
      "application/vnd.jupyter.widget-view+json": {
       "version_major": 2,
       "version_minor": 0,
       "model_id": "1e26b7d5027544d099930c654e167c82"
      }
     },
     "metadata": {},
     "output_type": "display_data"
    },
    {
     "name": "stdout",
     "output_type": "stream",
     "text": [
      "Epoch 50/100\n",
      "448/448 [==============================] - 10s 22ms/step - loss: 0.7633 - accuracy: 0.7227 - val_loss: 1.0589 - val_accuracy: 0.6179\n",
      "Epoch 51/100\n"
     ]
    },
    {
     "data": {
      "text/plain": "0/448           ETA: ?s - ",
      "application/vnd.jupyter.widget-view+json": {
       "version_major": 2,
       "version_minor": 0,
       "model_id": "dd48a7e2a26d4a5c913a95296c5f8b10"
      }
     },
     "metadata": {},
     "output_type": "display_data"
    },
    {
     "name": "stdout",
     "output_type": "stream",
     "text": [
      "Epoch 51/100\n",
      "448/448 [==============================] - 10s 23ms/step - loss: 0.7638 - accuracy: 0.7185 - val_loss: 1.0566 - val_accuracy: 0.6193\n",
      "Epoch 52/100\n"
     ]
    },
    {
     "data": {
      "text/plain": "0/448           ETA: ?s - ",
      "application/vnd.jupyter.widget-view+json": {
       "version_major": 2,
       "version_minor": 0,
       "model_id": "73ff0c6053174eccabc846f4b23fa3bf"
      }
     },
     "metadata": {},
     "output_type": "display_data"
    },
    {
     "name": "stdout",
     "output_type": "stream",
     "text": [
      "Epoch 52/100\n",
      "448/448 [==============================] - 10s 22ms/step - loss: 0.7513 - accuracy: 0.7252 - val_loss: 1.0581 - val_accuracy: 0.6187\n",
      "Epoch 53/100\n"
     ]
    },
    {
     "data": {
      "text/plain": "0/448           ETA: ?s - ",
      "application/vnd.jupyter.widget-view+json": {
       "version_major": 2,
       "version_minor": 0,
       "model_id": "28e203d7b67e451e8e5266cd9a387714"
      }
     },
     "metadata": {},
     "output_type": "display_data"
    },
    {
     "name": "stdout",
     "output_type": "stream",
     "text": [
      "Epoch 53/100\n",
      "448/448 [==============================] - 10s 22ms/step - loss: 0.7440 - accuracy: 0.7322 - val_loss: 1.0627 - val_accuracy: 0.6219\n",
      "Epoch 54/100\n"
     ]
    },
    {
     "data": {
      "text/plain": "0/448           ETA: ?s - ",
      "application/vnd.jupyter.widget-view+json": {
       "version_major": 2,
       "version_minor": 0,
       "model_id": "fe419a75f1124a8098e7491786db470d"
      }
     },
     "metadata": {},
     "output_type": "display_data"
    },
    {
     "name": "stdout",
     "output_type": "stream",
     "text": [
      "Epoch 54/100\n",
      "448/448 [==============================] - 10s 23ms/step - loss: 0.7314 - accuracy: 0.7343 - val_loss: 1.0587 - val_accuracy: 0.6196\n",
      "Epoch 55/100\n"
     ]
    },
    {
     "data": {
      "text/plain": "0/448           ETA: ?s - ",
      "application/vnd.jupyter.widget-view+json": {
       "version_major": 2,
       "version_minor": 0,
       "model_id": "ee0554b34d63422da6aa9e9e25d53e7f"
      }
     },
     "metadata": {},
     "output_type": "display_data"
    },
    {
     "name": "stdout",
     "output_type": "stream",
     "text": [
      "Epoch 55/100\n",
      "448/448 [==============================] - 10s 23ms/step - loss: 0.7306 - accuracy: 0.7316 - val_loss: 1.0607 - val_accuracy: 0.6182\n",
      "Epoch 56/100\n"
     ]
    },
    {
     "data": {
      "text/plain": "0/448           ETA: ?s - ",
      "application/vnd.jupyter.widget-view+json": {
       "version_major": 2,
       "version_minor": 0,
       "model_id": "b430339686a44e29b1385972f58fa775"
      }
     },
     "metadata": {},
     "output_type": "display_data"
    },
    {
     "name": "stdout",
     "output_type": "stream",
     "text": [
      "Epoch 56/100\n",
      "448/448 [==============================] - 10s 22ms/step - loss: 0.7203 - accuracy: 0.7362 - val_loss: 1.0632 - val_accuracy: 0.6249\n",
      "Epoch 57/100\n"
     ]
    },
    {
     "data": {
      "text/plain": "0/448           ETA: ?s - ",
      "application/vnd.jupyter.widget-view+json": {
       "version_major": 2,
       "version_minor": 0,
       "model_id": "17ad56d3c7ce4edd9fe87aed0dd3ad96"
      }
     },
     "metadata": {},
     "output_type": "display_data"
    },
    {
     "name": "stdout",
     "output_type": "stream",
     "text": [
      "Epoch 57/100\n",
      "448/448 [==============================] - 10s 22ms/step - loss: 0.7208 - accuracy: 0.7375 - val_loss: 1.0606 - val_accuracy: 0.6226\n",
      "Epoch 58/100\n"
     ]
    },
    {
     "data": {
      "text/plain": "0/448           ETA: ?s - ",
      "application/vnd.jupyter.widget-view+json": {
       "version_major": 2,
       "version_minor": 0,
       "model_id": "5ca2d86dc4df497db0bede5cd56bb177"
      }
     },
     "metadata": {},
     "output_type": "display_data"
    },
    {
     "name": "stdout",
     "output_type": "stream",
     "text": [
      "Epoch 58/100\n",
      "448/448 [==============================] - 10s 21ms/step - loss: 0.7152 - accuracy: 0.7388 - val_loss: 1.0584 - val_accuracy: 0.6226\n",
      "Epoch 59/100\n"
     ]
    },
    {
     "data": {
      "text/plain": "0/448           ETA: ?s - ",
      "application/vnd.jupyter.widget-view+json": {
       "version_major": 2,
       "version_minor": 0,
       "model_id": "9b50ad5744064f6e8b48aff79d3c53e9"
      }
     },
     "metadata": {},
     "output_type": "display_data"
    },
    {
     "name": "stdout",
     "output_type": "stream",
     "text": [
      "Epoch 59/100\n",
      "448/448 [==============================] - 10s 22ms/step - loss: 0.6956 - accuracy: 0.7466 - val_loss: 1.0622 - val_accuracy: 0.6233\n",
      "Epoch 60/100\n"
     ]
    },
    {
     "data": {
      "text/plain": "0/448           ETA: ?s - ",
      "application/vnd.jupyter.widget-view+json": {
       "version_major": 2,
       "version_minor": 0,
       "model_id": "e5f38f4e5c9743d5aa0d45c42ab86a9d"
      }
     },
     "metadata": {},
     "output_type": "display_data"
    },
    {
     "name": "stdout",
     "output_type": "stream",
     "text": [
      "Epoch 60/100\n",
      "448/448 [==============================] - 10s 22ms/step - loss: 0.6925 - accuracy: 0.7478 - val_loss: 1.0669 - val_accuracy: 0.6223\n",
      "Epoch 61/100\n"
     ]
    },
    {
     "data": {
      "text/plain": "0/448           ETA: ?s - ",
      "application/vnd.jupyter.widget-view+json": {
       "version_major": 2,
       "version_minor": 0,
       "model_id": "6fc85f0ff0084d9d96e7ff8049132ec0"
      }
     },
     "metadata": {},
     "output_type": "display_data"
    },
    {
     "name": "stdout",
     "output_type": "stream",
     "text": [
      "Epoch 61/100\n",
      "448/448 [==============================] - 10s 23ms/step - loss: 0.6890 - accuracy: 0.7494 - val_loss: 1.0596 - val_accuracy: 0.6236\n",
      "Epoch 62/100\n"
     ]
    },
    {
     "data": {
      "text/plain": "0/448           ETA: ?s - ",
      "application/vnd.jupyter.widget-view+json": {
       "version_major": 2,
       "version_minor": 0,
       "model_id": "249fef80f58940369d8a04c0f9897e94"
      }
     },
     "metadata": {},
     "output_type": "display_data"
    },
    {
     "name": "stdout",
     "output_type": "stream",
     "text": [
      "Epoch 62/100\n",
      "448/448 [==============================] - 10s 22ms/step - loss: 0.6827 - accuracy: 0.7529 - val_loss: 1.0662 - val_accuracy: 0.6217\n",
      "Epoch 63/100\n"
     ]
    },
    {
     "data": {
      "text/plain": "0/448           ETA: ?s - ",
      "application/vnd.jupyter.widget-view+json": {
       "version_major": 2,
       "version_minor": 0,
       "model_id": "f54d367670b14f57b6cd3c05a1ada657"
      }
     },
     "metadata": {},
     "output_type": "display_data"
    },
    {
     "name": "stdout",
     "output_type": "stream",
     "text": [
      "Epoch 63/100\n",
      "448/448 [==============================] - 10s 21ms/step - loss: 0.6790 - accuracy: 0.7530 - val_loss: 1.0720 - val_accuracy: 0.6215\n",
      "Epoch 64/100\n"
     ]
    },
    {
     "data": {
      "text/plain": "0/448           ETA: ?s - ",
      "application/vnd.jupyter.widget-view+json": {
       "version_major": 2,
       "version_minor": 0,
       "model_id": "4852ba09b87f4a089c398c4c147768a5"
      }
     },
     "metadata": {},
     "output_type": "display_data"
    },
    {
     "name": "stdout",
     "output_type": "stream",
     "text": [
      "Epoch 64/100\n",
      "448/448 [==============================] - 10s 21ms/step - loss: 0.6758 - accuracy: 0.7562 - val_loss: 1.0641 - val_accuracy: 0.6218\n",
      "Epoch 65/100\n"
     ]
    },
    {
     "data": {
      "text/plain": "0/448           ETA: ?s - ",
      "application/vnd.jupyter.widget-view+json": {
       "version_major": 2,
       "version_minor": 0,
       "model_id": "cad53557cf784d6a8877bdb7af7518aa"
      }
     },
     "metadata": {},
     "output_type": "display_data"
    },
    {
     "name": "stdout",
     "output_type": "stream",
     "text": [
      "Epoch 65/100\n",
      "448/448 [==============================] - 10s 22ms/step - loss: 0.6634 - accuracy: 0.7593 - val_loss: 1.0647 - val_accuracy: 0.6243\n",
      "Epoch 66/100\n"
     ]
    },
    {
     "data": {
      "text/plain": "0/448           ETA: ?s - ",
      "application/vnd.jupyter.widget-view+json": {
       "version_major": 2,
       "version_minor": 0,
       "model_id": "91fcc893fdd342c694ac486e053d01af"
      }
     },
     "metadata": {},
     "output_type": "display_data"
    },
    {
     "name": "stdout",
     "output_type": "stream",
     "text": [
      "Epoch 66/100\n",
      "447/448 [============================>.] - ETA: 0s - loss: 0.6632 - accuracy: 0.7598Restoring model weights from the end of the best epoch: 51.\n",
      "448/448 [==============================] - 10s 22ms/step - loss: 0.6630 - accuracy: 0.7599 - val_loss: 1.0657 - val_accuracy: 0.6244\n",
      "Epoch 66: early stopping\n",
      "Wall time: 12min 59s\n"
     ]
    }
   ],
   "source": [
    "%%time\n",
    "history = model1.fit(\n",
    "    train_generator,\n",
    "    steps_per_epoch=28709//64,\n",
    "    epochs=100,\n",
    "    validation_data=validation_generator,\n",
    "    validation_steps= 7178// 64,\n",
    "    callbacks = [early_stopping_callbacks, tqdm_callback]\n",
    ")"
   ],
   "metadata": {
    "collapsed": false,
    "pycharm": {
     "name": "#%%\n"
    }
   }
  },
  {
   "cell_type": "code",
   "execution_count": 18,
   "outputs": [
    {
     "data": {
      "text/plain": "<Figure size 640x480 with 1 Axes>",
      "image/png": "[encoded data removed]"
     },
     "metadata": {},
     "output_type": "display_data"
    },
    {
     "data": {
      "text/plain": "<Figure size 640x480 with 1 Axes>",
      "image/png": "[encoded data removed]"
     },
     "metadata": {},
     "output_type": "display_data"
    }
   ],
   "source": [
    "# Plot learning curves\n",
    "\n",
    "history_frame = pd.DataFrame(history.history)\n",
    "history_frame.loc[:, ['loss', 'val_loss']].plot()\n",
    "history_frame.loc[:, ['accuracy', 'val_accuracy']].plot();"
   ],
   "metadata": {
    "collapsed": false,
    "pycharm": {
     "name": "#%%\n"
    }
   }
  },
  {
   "cell_type": "code",
   "execution_count": 38,
   "outputs": [
    {
     "data": {
      "text/plain": "<Figure size 640x480 with 1 Axes>",
      "image/png": "[encoded data removed]"
     },
     "metadata": {},
     "output_type": "display_data"
    },
    {
     "data": {
      "text/plain": "<Figure size 640x480 with 1 Axes>",
      "image/png": "[encoded data removed]"
     },
     "metadata": {},
     "output_type": "display_data"
    }
   ],
   "source": [
    "# Plot learning curves\n",
    "\n",
    "history_frame = pd.DataFrame(history.history)\n",
    "history_frame.loc[:, ['loss', 'val_loss']].plot()\n",
    "history_frame.loc[:, ['accuracy', 'val_accuracy']].plot();"
   ],
   "metadata": {
    "collapsed": false,
    "pycharm": {
     "name": "#%%\n"
    }
   }
  },
  {
   "cell_type": "markdown",
   "source": [
    "## Saving the model"
   ],
   "metadata": {
    "collapsed": false
   }
  },
  {
   "cell_type": "code",
   "execution_count": 39,
   "outputs": [],
   "source": [
    "model_59_json = model1.to_json()\n",
    "with open('data/model_59.json', 'w') as json_file:\n",
    "    json_file.write(model_59_json)\n",
    "\n",
    "model1.save_weights('data/model_59_weights.h5')"
   ],
   "metadata": {
    "collapsed": false,
    "pycharm": {
     "name": "#%%\n"
    }
   }
  },
  {
   "cell_type": "code",
   "execution_count": 13,
   "outputs": [],
   "source": [
    "base_model2 = tensorflow.keras.applications.ResNet50V2(weights='imagenet',\n",
    "                                                       input_shape=(48,48,3),\n",
    "                                                       include_top= False,\n",
    "                                                       pooling = \"max\",\n",
    "                                                       classes = 7)"
   ],
   "metadata": {
    "collapsed": false,
    "pycharm": {
     "name": "#%%\n"
    }
   }
  },
  {
   "cell_type": "code",
   "execution_count": 14,
   "outputs": [],
   "source": [
    "model_resnet = Sequential()\n",
    "model_resnet.add(base_model2)\n",
    "model_resnet.add(Flatten())\n",
    "\n",
    "model_resnet.add(Dense(128, activation = 'relu'))\n",
    "model_resnet.add(Dense(64, activation = 'relu'))\n",
    "model_resnet.add(Dense(32, activation = 'relu'))\n",
    "model_resnet.add(Dense(7, activation = 'sigmoid'))\n",
    "\n",
    "for layer in base_model2.layers:\n",
    "    layer.trainable = False\n",
    "\n",
    "model_resnet.compile(optimizer = 'adam',\n",
    "                     loss = 'categorical_crossentropy',\n",
    "                     metrics = ['accuracy'])"
   ],
   "metadata": {
    "collapsed": false,
    "pycharm": {
     "name": "#%%\n"
    }
   }
  },
  {
   "cell_type": "code",
   "execution_count": null,
   "outputs": [],
   "source": [],
   "metadata": {
    "collapsed": false,
    "pycharm": {
     "name": "#%%\n"
    }
   }
  },
  {
   "cell_type": "code",
   "execution_count": 16,
   "outputs": [
    {
     "data": {
      "text/plain": "Training:   0%|           0/50 ETA: ?s,  ?epochs/s",
      "application/vnd.jupyter.widget-view+json": {
       "version_major": 2,
       "version_minor": 0,
       "model_id": "0cc78bd343044b6f96240e57b5a5817d"
      }
     },
     "metadata": {},
     "output_type": "display_data"
    },
    {
     "name": "stdout",
     "output_type": "stream",
     "text": [
      "Epoch 1/50\n"
     ]
    },
    {
     "data": {
      "text/plain": "0/448           ETA: ?s - ",
      "application/vnd.jupyter.widget-view+json": {
       "version_major": 2,
       "version_minor": 0,
       "model_id": "52b0499850534e638d2142b77a8eb3fb"
      }
     },
     "metadata": {},
     "output_type": "display_data"
    },
    {
     "name": "stdout",
     "output_type": "stream",
     "text": [
      "Epoch 1/50\n",
      "448/448 [==============================] - 29s 64ms/step - loss: 1.5190 - accuracy: 0.4117 - val_loss: 1.5404 - val_accuracy: 0.4090\n",
      "Epoch 2/50\n"
     ]
    },
    {
     "data": {
      "text/plain": "0/448           ETA: ?s - ",
      "application/vnd.jupyter.widget-view+json": {
       "version_major": 2,
       "version_minor": 0,
       "model_id": "7026a9520a20493e8343c964305546ef"
      }
     },
     "metadata": {},
     "output_type": "display_data"
    },
    {
     "name": "stdout",
     "output_type": "stream",
     "text": [
      "Epoch 2/50\n",
      "448/448 [==============================] - 11s 25ms/step - loss: 1.4487 - accuracy: 0.4425 - val_loss: 1.5219 - val_accuracy: 0.4147\n",
      "Epoch 3/50\n"
     ]
    },
    {
     "data": {
      "text/plain": "0/448           ETA: ?s - ",
      "application/vnd.jupyter.widget-view+json": {
       "version_major": 2,
       "version_minor": 0,
       "model_id": "19838239e58040a69a9dc13c8b0995c0"
      }
     },
     "metadata": {},
     "output_type": "display_data"
    },
    {
     "name": "stdout",
     "output_type": "stream",
     "text": [
      "Epoch 3/50\n",
      "448/448 [==============================] - 11s 25ms/step - loss: 1.3758 - accuracy: 0.4759 - val_loss: 1.5156 - val_accuracy: 0.4271\n",
      "Epoch 4/50\n"
     ]
    },
    {
     "data": {
      "text/plain": "0/448           ETA: ?s - ",
      "application/vnd.jupyter.widget-view+json": {
       "version_major": 2,
       "version_minor": 0,
       "model_id": "fbc00a9ff5434570a6b6e42a6c5be663"
      }
     },
     "metadata": {},
     "output_type": "display_data"
    },
    {
     "name": "stdout",
     "output_type": "stream",
     "text": [
      "Epoch 4/50\n",
      "448/448 [==============================] - 11s 25ms/step - loss: 1.3006 - accuracy: 0.5069 - val_loss: 1.5204 - val_accuracy: 0.4284\n",
      "Epoch 5/50\n"
     ]
    },
    {
     "data": {
      "text/plain": "0/448           ETA: ?s - ",
      "application/vnd.jupyter.widget-view+json": {
       "version_major": 2,
       "version_minor": 0,
       "model_id": "ab58d17d5faf4775a5e167ff166ea14c"
      }
     },
     "metadata": {},
     "output_type": "display_data"
    },
    {
     "name": "stdout",
     "output_type": "stream",
     "text": [
      "Epoch 5/50\n",
      "448/448 [==============================] - 11s 25ms/step - loss: 1.2273 - accuracy: 0.5385 - val_loss: 1.5679 - val_accuracy: 0.4337\n",
      "Epoch 6/50\n"
     ]
    },
    {
     "data": {
      "text/plain": "0/448           ETA: ?s - ",
      "application/vnd.jupyter.widget-view+json": {
       "version_major": 2,
       "version_minor": 0,
       "model_id": "b8132bfa05df42bd9ef8b88d40680464"
      }
     },
     "metadata": {},
     "output_type": "display_data"
    },
    {
     "name": "stdout",
     "output_type": "stream",
     "text": [
      "Epoch 6/50\n",
      "448/448 [==============================] - 11s 24ms/step - loss: 1.1409 - accuracy: 0.5732 - val_loss: 1.6100 - val_accuracy: 0.4324\n",
      "Epoch 7/50\n"
     ]
    },
    {
     "data": {
      "text/plain": "0/448           ETA: ?s - ",
      "application/vnd.jupyter.widget-view+json": {
       "version_major": 2,
       "version_minor": 0,
       "model_id": "409a9f2bf2fa41fdb17d7f60684a9bef"
      }
     },
     "metadata": {},
     "output_type": "display_data"
    },
    {
     "name": "stdout",
     "output_type": "stream",
     "text": [
      "Epoch 7/50\n",
      "448/448 [==============================] - 11s 24ms/step - loss: 1.0624 - accuracy: 0.6058 - val_loss: 1.6936 - val_accuracy: 0.4342\n",
      "Epoch 8/50\n"
     ]
    },
    {
     "data": {
      "text/plain": "0/448           ETA: ?s - ",
      "application/vnd.jupyter.widget-view+json": {
       "version_major": 2,
       "version_minor": 0,
       "model_id": "e6730f71794642caadf28a193e4b2407"
      }
     },
     "metadata": {},
     "output_type": "display_data"
    },
    {
     "name": "stdout",
     "output_type": "stream",
     "text": [
      "Epoch 8/50\n",
      "448/448 [==============================] - 11s 24ms/step - loss: 0.9843 - accuracy: 0.6352 - val_loss: 1.7868 - val_accuracy: 0.4316\n",
      "Epoch 9/50\n"
     ]
    },
    {
     "data": {
      "text/plain": "0/448           ETA: ?s - ",
      "application/vnd.jupyter.widget-view+json": {
       "version_major": 2,
       "version_minor": 0,
       "model_id": "5d6a317a053f4c2098eea7a06dd32fc5"
      }
     },
     "metadata": {},
     "output_type": "display_data"
    },
    {
     "name": "stdout",
     "output_type": "stream",
     "text": [
      "Epoch 9/50\n",
      "448/448 [==============================] - 11s 24ms/step - loss: 0.9130 - accuracy: 0.6657 - val_loss: 1.9035 - val_accuracy: 0.4285\n",
      "Epoch 10/50\n"
     ]
    },
    {
     "data": {
      "text/plain": "0/448           ETA: ?s - ",
      "application/vnd.jupyter.widget-view+json": {
       "version_major": 2,
       "version_minor": 0,
       "model_id": "785a91f5910a4f9eb46bd3794964f28d"
      }
     },
     "metadata": {},
     "output_type": "display_data"
    },
    {
     "name": "stdout",
     "output_type": "stream",
     "text": [
      "Epoch 10/50\n",
      "448/448 [==============================] - 11s 24ms/step - loss: 0.8378 - accuracy: 0.6943 - val_loss: 1.9926 - val_accuracy: 0.4326\n",
      "Epoch 11/50\n"
     ]
    },
    {
     "data": {
      "text/plain": "0/448           ETA: ?s - ",
      "application/vnd.jupyter.widget-view+json": {
       "version_major": 2,
       "version_minor": 0,
       "model_id": "11f47a1b475b4e09a03492459bc84d8b"
      }
     },
     "metadata": {},
     "output_type": "display_data"
    },
    {
     "name": "stdout",
     "output_type": "stream",
     "text": [
      "Epoch 11/50\n",
      "448/448 [==============================] - 11s 24ms/step - loss: 0.7836 - accuracy: 0.7112 - val_loss: 2.1174 - val_accuracy: 0.4257\n",
      "Epoch 12/50\n"
     ]
    },
    {
     "data": {
      "text/plain": "0/448           ETA: ?s - ",
      "application/vnd.jupyter.widget-view+json": {
       "version_major": 2,
       "version_minor": 0,
       "model_id": "499d0f4b9bd544e2b99c49fa3299f2cf"
      }
     },
     "metadata": {},
     "output_type": "display_data"
    },
    {
     "name": "stdout",
     "output_type": "stream",
     "text": [
      "Epoch 12/50\n",
      "448/448 [==============================] - 11s 25ms/step - loss: 0.7323 - accuracy: 0.7339 - val_loss: 2.1969 - val_accuracy: 0.4271\n",
      "Epoch 13/50\n"
     ]
    },
    {
     "data": {
      "text/plain": "0/448           ETA: ?s - ",
      "application/vnd.jupyter.widget-view+json": {
       "version_major": 2,
       "version_minor": 0,
       "model_id": "d15ef384c92e423a80519ab6a59b60e7"
      }
     },
     "metadata": {},
     "output_type": "display_data"
    },
    {
     "name": "stdout",
     "output_type": "stream",
     "text": [
      "Epoch 13/50\n",
      "448/448 [==============================] - 11s 24ms/step - loss: 0.6859 - accuracy: 0.7511 - val_loss: 2.2959 - val_accuracy: 0.4246\n",
      "Epoch 14/50\n"
     ]
    },
    {
     "data": {
      "text/plain": "0/448           ETA: ?s - ",
      "application/vnd.jupyter.widget-view+json": {
       "version_major": 2,
       "version_minor": 0,
       "model_id": "2a71febdba2d45fba608f03990643737"
      }
     },
     "metadata": {},
     "output_type": "display_data"
    },
    {
     "name": "stdout",
     "output_type": "stream",
     "text": [
      "Epoch 14/50\n",
      "448/448 [==============================] - 11s 25ms/step - loss: 0.6432 - accuracy: 0.7672 - val_loss: 2.5032 - val_accuracy: 0.4366\n",
      "Epoch 15/50\n"
     ]
    },
    {
     "data": {
      "text/plain": "0/448           ETA: ?s - ",
      "application/vnd.jupyter.widget-view+json": {
       "version_major": 2,
       "version_minor": 0,
       "model_id": "b58f49dc09474ea5b960a342321d7a98"
      }
     },
     "metadata": {},
     "output_type": "display_data"
    },
    {
     "name": "stdout",
     "output_type": "stream",
     "text": [
      "Epoch 15/50\n",
      "448/448 [==============================] - 11s 25ms/step - loss: 0.5872 - accuracy: 0.7875 - val_loss: 2.5971 - val_accuracy: 0.4327\n",
      "Epoch 16/50\n"
     ]
    },
    {
     "data": {
      "text/plain": "0/448           ETA: ?s - ",
      "application/vnd.jupyter.widget-view+json": {
       "version_major": 2,
       "version_minor": 0,
       "model_id": "061163bfc93e40af8063c849d160179c"
      }
     },
     "metadata": {},
     "output_type": "display_data"
    },
    {
     "name": "stdout",
     "output_type": "stream",
     "text": [
      "Epoch 16/50\n",
      "448/448 [==============================] - 11s 25ms/step - loss: 0.5572 - accuracy: 0.8000 - val_loss: 2.6809 - val_accuracy: 0.4223\n",
      "Epoch 17/50\n"
     ]
    },
    {
     "data": {
      "text/plain": "0/448           ETA: ?s - ",
      "application/vnd.jupyter.widget-view+json": {
       "version_major": 2,
       "version_minor": 0,
       "model_id": "e555d1e5892042c9baaa059268e96821"
      }
     },
     "metadata": {},
     "output_type": "display_data"
    },
    {
     "name": "stdout",
     "output_type": "stream",
     "text": [
      "Epoch 17/50\n",
      "448/448 [==============================] - 11s 25ms/step - loss: 0.5144 - accuracy: 0.8164 - val_loss: 2.9550 - val_accuracy: 0.4291\n",
      "Epoch 18/50\n"
     ]
    },
    {
     "data": {
      "text/plain": "0/448           ETA: ?s - ",
      "application/vnd.jupyter.widget-view+json": {
       "version_major": 2,
       "version_minor": 0,
       "model_id": "7e2d47ec374d40d3958f7f743d8136cf"
      }
     },
     "metadata": {},
     "output_type": "display_data"
    },
    {
     "name": "stdout",
     "output_type": "stream",
     "text": [
      "Epoch 18/50\n",
      "448/448 [==============================] - ETA: 0s - loss: 0.4940 - accuracy: 0.8237Restoring model weights from the end of the best epoch: 3.\n",
      "448/448 [==============================] - 11s 25ms/step - loss: 0.4940 - accuracy: 0.8237 - val_loss: 3.0379 - val_accuracy: 0.4100\n",
      "Epoch 18: early stopping\n",
      "Wall time: 3min 37s\n"
     ]
    }
   ],
   "source": [
    "%%time\n",
    "import tensorflow_addons as tfa\n",
    "tqdm_callback = tfa.callbacks.TQDMProgressBar()\n",
    "\n",
    "history_resnet = model_resnet.fit(train_generator,\n",
    "                                  epochs = 50,\n",
    "                                  validation_data = validation_generator,\n",
    "                                  steps_per_epoch = 28709//64,\n",
    "                                  validation_steps= 7178// 64,\n",
    "                                  callbacks = [early_stopping_callbacks, tqdm_callback])"
   ],
   "metadata": {
    "collapsed": false,
    "pycharm": {
     "name": "#%%\n"
    }
   }
  },
  {
   "cell_type": "code",
   "execution_count": 19,
   "outputs": [
    {
     "data": {
      "text/plain": "<Figure size 640x480 with 1 Axes>",
      "image/png": "[encoded data removed]"
     },
     "metadata": {},
     "output_type": "display_data"
    },
    {
     "data": {
      "text/plain": "<Figure size 640x480 with 1 Axes>",
      "image/png": "[encoded data removed]"
     },
     "metadata": {},
     "output_type": "display_data"
    }
   ],
   "source": [
    "history_frame = pd.DataFrame(history_resnet.history)\n",
    "history_frame.loc[:, ['loss', 'val_loss']].plot()\n",
    "history_frame.loc[:, ['accuracy', 'val_accuracy']].plot();"
   ],
   "metadata": {
    "collapsed": false,
    "pycharm": {
     "name": "#%%\n"
    }
   }
  },
  {
   "cell_type": "code",
   "execution_count": 20,
   "outputs": [],
   "source": [
    "model_resnet_json = model_resnet.to_json()\n",
    "with open('data/model_resnet.json', 'w') as json_file:\n",
    "    json_file.write(model_resnet_json)\n",
    "\n",
    "model1.save_weights('data/model_resnet_weights.h5')"
   ],
   "metadata": {
    "collapsed": false,
    "pycharm": {
     "name": "#%%\n"
    }
   }
  },
  {
   "cell_type": "code",
   "execution_count": null,
   "outputs": [],
   "source": [],
   "metadata": {
    "collapsed": false,
    "pycharm": {
     "name": "#%%\n"
    }
   }
  }
 ],
 "metadata": {
  "kernelspec": {
   "name": "python3",
   "language": "python",
   "display_name": "Python 3 (ipykernel)"
  },
  "language_info": {
   "codemirror_mode": {
    "name": "ipython",
    "version": 2
   },
   "file_extension": ".py",
   "mimetype": "text/x-python",
   "name": "python",
   "nbconvert_exporter": "python",
   "pygments_lexer": "ipython2",
   "version": "2.7.6"
  }
 },
 "nbformat": 4,
 "nbformat_minor": 0
}