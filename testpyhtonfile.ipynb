{
 "cells": [
  {
   "cell_type": "code",
   "execution_count": 3,
   "metadata": {
    "collapsed": true
   },
   "outputs": [
    {
     "ename": "AttributeError",
     "evalue": "module 'tensorflow' has no attribute 'Variable'",
     "output_type": "error",
     "traceback": [
      "\u001B[1;31m---------------------------------------------------------------------------\u001B[0m",
      "\u001B[1;31mAttributeError\u001B[0m                            Traceback (most recent call last)",
      "\u001B[1;32m~\\AppData\\Local\\Temp\\ipykernel_5404\\1789669621.py\u001B[0m in \u001B[0;36m<module>\u001B[1;34m\u001B[0m\n\u001B[0;32m      1\u001B[0m \u001B[1;32mimport\u001B[0m \u001B[0mtensorflow\u001B[0m \u001B[1;32mas\u001B[0m \u001B[0mtf\u001B[0m\u001B[1;33m\u001B[0m\u001B[1;33m\u001B[0m\u001B[0m\n\u001B[1;32m----> 2\u001B[1;33m \u001B[0mtens1\u001B[0m \u001B[1;33m=\u001B[0m \u001B[0mtf\u001B[0m\u001B[1;33m.\u001B[0m\u001B[0mVariable\u001B[0m\u001B[1;33m(\u001B[0m\u001B[1;33m[\u001B[0m\u001B[1;33m[\u001B[0m\u001B[1;36m67\u001B[0m\u001B[1;33m,\u001B[0m \u001B[1;36m89\u001B[0m\u001B[1;33m]\u001B[0m\u001B[1;33m,\u001B[0m\u001B[1;33m[\u001B[0m\u001B[1;36m23\u001B[0m\u001B[1;33m,\u001B[0m \u001B[1;36m45\u001B[0m\u001B[1;33m]\u001B[0m\u001B[1;33m]\u001B[0m\u001B[1;33m)\u001B[0m\u001B[1;33m\u001B[0m\u001B[1;33m\u001B[0m\u001B[0m\n\u001B[0m\u001B[0;32m      3\u001B[0m \u001B[0mtens2\u001B[0m \u001B[1;33m=\u001B[0m \u001B[0mtf\u001B[0m\u001B[1;33m.\u001B[0m\u001B[0mVariable\u001B[0m\u001B[1;33m(\u001B[0m\u001B[1;33m[\u001B[0m\u001B[1;33m[\u001B[0m\u001B[1;36m94\u001B[0m\u001B[1;33m,\u001B[0m \u001B[1;36m117\u001B[0m\u001B[1;33m]\u001B[0m\u001B[1;33m,\u001B[0m\u001B[1;33m[\u001B[0m\u001B[1;36m189\u001B[0m\u001B[1;33m,\u001B[0m \u001B[1;36m210\u001B[0m\u001B[1;33m]\u001B[0m\u001B[1;33m]\u001B[0m\u001B[1;33m)\u001B[0m\u001B[1;33m\u001B[0m\u001B[1;33m\u001B[0m\u001B[0m\n\u001B[0;32m      4\u001B[0m \u001B[0mnew_output\u001B[0m\u001B[1;33m=\u001B[0m \u001B[0mtf\u001B[0m\u001B[1;33m.\u001B[0m\u001B[0madd\u001B[0m\u001B[1;33m(\u001B[0m\u001B[0mtens1\u001B[0m\u001B[1;33m,\u001B[0m\u001B[0mtens2\u001B[0m\u001B[1;33m)\u001B[0m\u001B[1;33m\u001B[0m\u001B[1;33m\u001B[0m\u001B[0m\n\u001B[0;32m      5\u001B[0m \u001B[0mprint\u001B[0m\u001B[1;33m(\u001B[0m\u001B[0mnew_output\u001B[0m\u001B[1;33m)\u001B[0m\u001B[1;33m\u001B[0m\u001B[1;33m\u001B[0m\u001B[0m\n",
      "\u001B[1;31mAttributeError\u001B[0m: module 'tensorflow' has no attribute 'Variable'"
     ]
    }
   ],
   "source": [
    "import tensorflow as tf\n"
   ]
  },
  {
   "cell_type": "code",
   "execution_count": 4,
   "outputs": [
    {
     "name": "stdout",
     "output_type": "stream",
     "text": [
      "Requirement already satisfied: Tensorflow in j:\\c\\anaconda\\envs\\portfolio\\lib\\site-packages (2.11.0)\n",
      "Requirement already satisfied: tensorflow-intel==2.11.0 in j:\\c\\anaconda\\envs\\portfolio\\lib\\site-packages (from Tensorflow) (2.11.0)\n",
      "Requirement already satisfied: typing-extensions>=3.6.6 in j:\\c\\anaconda\\envs\\portfolio\\lib\\site-packages (from tensorflow-intel==2.11.0->Tensorflow) (4.3.0)\n",
      "Requirement already satisfied: grpcio<2.0,>=1.24.3 in j:\\c\\anaconda\\envs\\portfolio\\lib\\site-packages (from tensorflow-intel==2.11.0->Tensorflow) (1.50.0)\n",
      "Requirement already satisfied: numpy>=1.20 in j:\\c\\anaconda\\envs\\portfolio\\lib\\site-packages (from tensorflow-intel==2.11.0->Tensorflow) (1.21.5)\n",
      "Requirement already satisfied: protobuf<3.20,>=3.9.2 in j:\\c\\anaconda\\envs\\portfolio\\lib\\site-packages (from tensorflow-intel==2.11.0->Tensorflow) (3.19.6)\n",
      "Requirement already satisfied: packaging in j:\\c\\anaconda\\envs\\portfolio\\lib\\site-packages (from tensorflow-intel==2.11.0->Tensorflow) (21.3)\n",
      "Requirement already satisfied: gast<=0.4.0,>=0.2.1 in j:\\c\\anaconda\\envs\\portfolio\\lib\\site-packages (from tensorflow-intel==2.11.0->Tensorflow) (0.4.0)\n",
      "Requirement already satisfied: wrapt>=1.11.0 in j:\\c\\anaconda\\envs\\portfolio\\lib\\site-packages (from tensorflow-intel==2.11.0->Tensorflow) (1.14.1)\n",
      "Requirement already satisfied: setuptools in j:\\c\\anaconda\\envs\\portfolio\\lib\\site-packages (from tensorflow-intel==2.11.0->Tensorflow) (65.5.0)\n",
      "Requirement already satisfied: termcolor>=1.1.0 in j:\\c\\anaconda\\envs\\portfolio\\lib\\site-packages (from tensorflow-intel==2.11.0->Tensorflow) (2.1.0)\n",
      "Requirement already satisfied: tensorflow-estimator<2.12,>=2.11.0 in j:\\c\\anaconda\\envs\\portfolio\\lib\\site-packages (from tensorflow-intel==2.11.0->Tensorflow) (2.11.0)\n",
      "Requirement already satisfied: keras<2.12,>=2.11.0 in j:\\c\\anaconda\\envs\\portfolio\\lib\\site-packages (from tensorflow-intel==2.11.0->Tensorflow) (2.11.0)\n",
      "Requirement already satisfied: google-pasta>=0.1.1 in j:\\c\\anaconda\\envs\\portfolio\\lib\\site-packages (from tensorflow-intel==2.11.0->Tensorflow) (0.2.0)\n",
      "Requirement already satisfied: tensorflow-io-gcs-filesystem>=0.23.1 in j:\\c\\anaconda\\envs\\portfolio\\lib\\site-packages (from tensorflow-intel==2.11.0->Tensorflow) (0.27.0)\n",
      "Requirement already satisfied: opt-einsum>=2.3.2 in j:\\c\\anaconda\\envs\\portfolio\\lib\\site-packages (from tensorflow-intel==2.11.0->Tensorflow) (3.3.0)\n",
      "Requirement already satisfied: absl-py>=1.0.0 in j:\\c\\anaconda\\envs\\portfolio\\lib\\site-packages (from tensorflow-intel==2.11.0->Tensorflow) (1.3.0)\n",
      "Requirement already satisfied: astunparse>=1.6.0 in j:\\c\\anaconda\\envs\\portfolio\\lib\\site-packages (from tensorflow-intel==2.11.0->Tensorflow) (1.6.3)\n",
      "Requirement already satisfied: six>=1.12.0 in j:\\c\\anaconda\\envs\\portfolio\\lib\\site-packages (from tensorflow-intel==2.11.0->Tensorflow) (1.16.0)\n",
      "Requirement already satisfied: h5py>=2.9.0 in j:\\c\\anaconda\\envs\\portfolio\\lib\\site-packages (from tensorflow-intel==2.11.0->Tensorflow) (2.10.0)\n",
      "Requirement already satisfied: flatbuffers>=2.0 in j:\\c\\anaconda\\envs\\portfolio\\lib\\site-packages (from tensorflow-intel==2.11.0->Tensorflow) (22.10.26)\n",
      "Requirement already satisfied: libclang>=13.0.0 in j:\\c\\anaconda\\envs\\portfolio\\lib\\site-packages (from tensorflow-intel==2.11.0->Tensorflow) (14.0.6)\n",
      "Requirement already satisfied: tensorboard<2.12,>=2.11 in j:\\c\\anaconda\\envs\\portfolio\\lib\\site-packages (from tensorflow-intel==2.11.0->Tensorflow) (2.11.2)\n",
      "Requirement already satisfied: wheel<1.0,>=0.23.0 in j:\\c\\anaconda\\envs\\portfolio\\lib\\site-packages (from astunparse>=1.6.0->tensorflow-intel==2.11.0->Tensorflow) (0.37.1)\n",
      "Requirement already satisfied: google-auth<3,>=1.6.3 in j:\\c\\anaconda\\envs\\portfolio\\lib\\site-packages (from tensorboard<2.12,>=2.11->tensorflow-intel==2.11.0->Tensorflow) (2.11.0)\n",
      "Requirement already satisfied: markdown>=2.6.8 in j:\\c\\anaconda\\envs\\portfolio\\lib\\site-packages (from tensorboard<2.12,>=2.11->tensorflow-intel==2.11.0->Tensorflow) (3.3.4)\n",
      "Requirement already satisfied: google-auth-oauthlib<0.5,>=0.4.1 in j:\\c\\anaconda\\envs\\portfolio\\lib\\site-packages (from tensorboard<2.12,>=2.11->tensorflow-intel==2.11.0->Tensorflow) (0.4.6)\n",
      "Requirement already satisfied: tensorboard-data-server<0.7.0,>=0.6.0 in j:\\c\\anaconda\\envs\\portfolio\\lib\\site-packages (from tensorboard<2.12,>=2.11->tensorflow-intel==2.11.0->Tensorflow) (0.6.1)\n",
      "Requirement already satisfied: tensorboard-plugin-wit>=1.6.0 in j:\\c\\anaconda\\envs\\portfolio\\lib\\site-packages (from tensorboard<2.12,>=2.11->tensorflow-intel==2.11.0->Tensorflow) (1.8.1)\n",
      "Requirement already satisfied: requests<3,>=2.21.0 in j:\\c\\anaconda\\envs\\portfolio\\lib\\site-packages (from tensorboard<2.12,>=2.11->tensorflow-intel==2.11.0->Tensorflow) (2.27.1)\n",
      "Requirement already satisfied: werkzeug>=1.0.1 in j:\\c\\anaconda\\envs\\portfolio\\lib\\site-packages (from tensorboard<2.12,>=2.11->tensorflow-intel==2.11.0->Tensorflow) (2.0.3)\n",
      "Requirement already satisfied: pyparsing!=3.0.5,>=2.0.2 in j:\\c\\anaconda\\envs\\portfolio\\lib\\site-packages (from packaging->tensorflow-intel==2.11.0->Tensorflow) (3.0.9)\n",
      "Requirement already satisfied: cachetools<6.0,>=2.0.0 in j:\\c\\anaconda\\envs\\portfolio\\lib\\site-packages (from google-auth<3,>=1.6.3->tensorboard<2.12,>=2.11->tensorflow-intel==2.11.0->Tensorflow) (5.2.0)\n",
      "Requirement already satisfied: pyasn1-modules>=0.2.1 in j:\\c\\anaconda\\envs\\portfolio\\lib\\site-packages (from google-auth<3,>=1.6.3->tensorboard<2.12,>=2.11->tensorflow-intel==2.11.0->Tensorflow) (0.2.8)\n",
      "Requirement already satisfied: rsa<5,>=3.1.4 in j:\\c\\anaconda\\envs\\portfolio\\lib\\site-packages (from google-auth<3,>=1.6.3->tensorboard<2.12,>=2.11->tensorflow-intel==2.11.0->Tensorflow) (4.9)\n",
      "Requirement already satisfied: requests-oauthlib>=0.7.0 in j:\\c\\anaconda\\envs\\portfolio\\lib\\site-packages (from google-auth-oauthlib<0.5,>=0.4.1->tensorboard<2.12,>=2.11->tensorflow-intel==2.11.0->Tensorflow) (1.3.1)\n",
      "Requirement already satisfied: importlib-metadata in j:\\c\\anaconda\\envs\\portfolio\\lib\\site-packages (from markdown>=2.6.8->tensorboard<2.12,>=2.11->tensorflow-intel==2.11.0->Tensorflow) (4.11.3)\n",
      "Requirement already satisfied: idna<4,>=2.5 in j:\\c\\anaconda\\envs\\portfolio\\lib\\site-packages (from requests<3,>=2.21.0->tensorboard<2.12,>=2.11->tensorflow-intel==2.11.0->Tensorflow) (3.4)\n",
      "Requirement already satisfied: certifi>=2017.4.17 in j:\\c\\anaconda\\envs\\portfolio\\lib\\site-packages (from requests<3,>=2.21.0->tensorboard<2.12,>=2.11->tensorflow-intel==2.11.0->Tensorflow) (2022.9.24)\n",
      "Requirement already satisfied: urllib3<1.27,>=1.21.1 in j:\\c\\anaconda\\envs\\portfolio\\lib\\site-packages (from requests<3,>=2.21.0->tensorboard<2.12,>=2.11->tensorflow-intel==2.11.0->Tensorflow) (1.26.12)\n",
      "Requirement already satisfied: charset-normalizer~=2.0.0 in j:\\c\\anaconda\\envs\\portfolio\\lib\\site-packages (from requests<3,>=2.21.0->tensorboard<2.12,>=2.11->tensorflow-intel==2.11.0->Tensorflow) (2.0.4)\n",
      "Requirement already satisfied: pyasn1<0.5.0,>=0.4.6 in j:\\c\\anaconda\\envs\\portfolio\\lib\\site-packages (from pyasn1-modules>=0.2.1->google-auth<3,>=1.6.3->tensorboard<2.12,>=2.11->tensorflow-intel==2.11.0->Tensorflow) (0.4.8)\n",
      "Requirement already satisfied: oauthlib>=3.0.0 in j:\\c\\anaconda\\envs\\portfolio\\lib\\site-packages (from requests-oauthlib>=0.7.0->google-auth-oauthlib<0.5,>=0.4.1->tensorboard<2.12,>=2.11->tensorflow-intel==2.11.0->Tensorflow) (3.2.2)\n",
      "Requirement already satisfied: zipp>=0.5 in j:\\c\\anaconda\\envs\\portfolio\\lib\\site-packages (from importlib-metadata->markdown>=2.6.8->tensorboard<2.12,>=2.11->tensorflow-intel==2.11.0->Tensorflow) (3.8.0)\n"
     ]
    },
    {
     "name": "stderr",
     "output_type": "stream",
     "text": [
      "WARNING: Ignoring invalid distribution -rotobuf (j:\\c\\anaconda\\envs\\portfolio\\lib\\site-packages)\n",
      "WARNING: Ignoring invalid distribution -ltk (j:\\c\\anaconda\\envs\\portfolio\\lib\\site-packages)\n",
      "WARNING: Ignoring invalid distribution -illow (j:\\c\\anaconda\\envs\\portfolio\\lib\\site-packages)\n",
      "WARNING: Ignoring invalid distribution -rotobuf (j:\\c\\anaconda\\envs\\portfolio\\lib\\site-packages)\n",
      "WARNING: Ignoring invalid distribution -ltk (j:\\c\\anaconda\\envs\\portfolio\\lib\\site-packages)\n",
      "WARNING: Ignoring invalid distribution -illow (j:\\c\\anaconda\\envs\\portfolio\\lib\\site-packages)\n",
      "WARNING: Ignoring invalid distribution -rotobuf (j:\\c\\anaconda\\envs\\portfolio\\lib\\site-packages)\n",
      "WARNING: Ignoring invalid distribution -ltk (j:\\c\\anaconda\\envs\\portfolio\\lib\\site-packages)\n",
      "WARNING: Ignoring invalid distribution -illow (j:\\c\\anaconda\\envs\\portfolio\\lib\\site-packages)\n",
      "WARNING: Ignoring invalid distribution -rotobuf (j:\\c\\anaconda\\envs\\portfolio\\lib\\site-packages)\n",
      "WARNING: Ignoring invalid distribution -ltk (j:\\c\\anaconda\\envs\\portfolio\\lib\\site-packages)\n",
      "WARNING: Ignoring invalid distribution -illow (j:\\c\\anaconda\\envs\\portfolio\\lib\\site-packages)\n",
      "WARNING: Ignoring invalid distribution -rotobuf (j:\\c\\anaconda\\envs\\portfolio\\lib\\site-packages)\n",
      "WARNING: Ignoring invalid distribution -ltk (j:\\c\\anaconda\\envs\\portfolio\\lib\\site-packages)\n",
      "WARNING: Ignoring invalid distribution -illow (j:\\c\\anaconda\\envs\\portfolio\\lib\\site-packages)\n",
      "WARNING: Ignoring invalid distribution -rotobuf (j:\\c\\anaconda\\envs\\portfolio\\lib\\site-packages)\n",
      "WARNING: Ignoring invalid distribution -ltk (j:\\c\\anaconda\\envs\\portfolio\\lib\\site-packages)\n",
      "WARNING: Ignoring invalid distribution -illow (j:\\c\\anaconda\\envs\\portfolio\\lib\\site-packages)\n"
     ]
    }
   ],
   "source": [
    "tens1 = tf.Variable([[67, 89],[23, 45]])\n",
    "tens2 = tf.Variable([[94, 117],[189, 210]])\n",
    "new_output= tf.add(tens1,tens2)\n",
    "print(new_output)"
   ],
   "metadata": {
    "collapsed": false,
    "pycharm": {
     "name": "#%%\n"
    }
   }
  },
  {
   "cell_type": "code",
   "execution_count": null,
   "outputs": [],
   "source": [],
   "metadata": {
    "collapsed": false,
    "pycharm": {
     "name": "#%%\n"
    }
   }
  }
 ],
 "metadata": {
  "kernelspec": {
   "name": "tf_gpu",
   "language": "python",
   "display_name": "tf_gpu"
  },
  "language_info": {
   "codemirror_mode": {
    "name": "ipython",
    "version": 2
   },
   "file_extension": ".py",
   "mimetype": "text/x-python",
   "name": "python",
   "nbconvert_exporter": "python",
   "pygments_lexer": "ipython2",
   "version": "2.7.6"
  }
 },
 "nbformat": 4,
 "nbformat_minor": 0
}